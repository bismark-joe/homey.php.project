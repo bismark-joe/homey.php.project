{
  "nbformat": 4,
  "nbformat_minor": 0,
  "metadata": {
    "colab": {
      "provenance": [],
      "include_colab_link": true
    },
    "kernelspec": {
      "name": "python3",
      "display_name": "Python 3"
    },
    "language_info": {
      "name": "python"
    }
  },
  "cells": [
    {
      "cell_type": "markdown",
      "metadata": {
        "id": "view-in-github",
        "colab_type": "text"
      },
      "source": [
        "<a href=\"https://colab.research.google.com/github/bismark-joe/homey/blob/master/Introduction_to_Python_Programming_Language.ipynb\" target=\"_parent\"><img src=\"https://colab.research.google.com/assets/colab-badge.svg\" alt=\"Open In Colab\"/></a>"
      ]
    },
    {
      "cell_type": "markdown",
      "source": [
        "**Programming a Computer**\n",
        "\n",
        "Computer programming is the process of writing instructions that get executed by computers. The instructions, also known as code, are written in a programming language which the computer can understand and use to perform a task or solve a problem.\n",
        "\n",
        "Words in human languages are signifiers or representation of concepts. Either abstract or concrete. To understand an utterance or expression, the listener must have basic knowledge of almost every word in the sentence.\n",
        "\n",
        "If listeners must have considerable knowledge of the concepts in an utterance in order to understand such expression, the same rule applies to computers.\n",
        "\n",
        "The language humans use to communicate with computers are called programming languages. The set of instructions given to a computer is called a program."
      ],
      "metadata": {
        "id": "jG4VDH-rXxvD"
      }
    },
    {
      "cell_type": "markdown",
      "source": [
        "**Python programming language**\n",
        "\n",
        "Python is an easy to learn, powerful programming language. It has efficient high-level data structures and a simple but effective approach to object-oriented programming. Python’s elegant syntax and dynamic typing, together with its interpreted nature, make it an ideal language for scripting and rapid application development in many areas on most platforms."
      ],
      "metadata": {
        "id": "E0ZWJL7QWMTq"
      }
    },
    {
      "cell_type": "markdown",
      "source": [
        "Variables\n",
        "\n",
        "A variable is an abstract storage location paired with an associated symbolic name, which contains some known or unknown quantity of information referred to as a value;"
      ],
      "metadata": {
        "id": "G33WQESfXq5O"
      }
    },
    {
      "cell_type": "code",
      "execution_count": null,
      "metadata": {
        "colab": {
          "base_uri": "https://localhost:8080/"
        },
        "id": "MR0aXuRrV9AV",
        "outputId": "31e6cd82-cd61-47e4-eab2-648ddb788815"
      },
      "outputs": [
        {
          "output_type": "stream",
          "name": "stdout",
          "text": [
            "<class 'int'> <class 'str'> <class 'list'> <class 'dict'> <class 'tuple'>\n"
          ]
        }
      ],
      "source": [
        "a = 2     # int\n",
        "\n",
        "b = \"sing\"  #string\n",
        "\n",
        "c = [\"Blue\",\"Green\",\"Yellow\"] #list\n",
        "\n",
        "d = {\"Title\":\"Python programming Language\", \"Unit\": 3} #dict\n",
        "\n",
        "e = (2,3) #tuple\n",
        "\n",
        "print(type(a), type(b), type(c), type(d),type(e))\n",
        "\n"
      ]
    },
    {
      "cell_type": "markdown",
      "source": [
        "**Variable and Value**\n",
        "\n",
        "**Variables** a,b,...,e are symbols representing locations in the computer memory (RAM or Cache Memory) while 2, \"sing\", [\"Blue\",\"Green\",\"Yellow\"], {\"Title\":\"Python programming Language\", \"Unit\": 3} and (2,3) are the **values** (byte of data) stored in those memory locations.\n",
        "\n",
        "Types of data or data types\n",
        "\n",
        "For now, we'll talk about\n",
        "\n",
        "1. Int(egers)\n",
        "2. Str(ings)\n",
        "3. List\n",
        "4. Dict (ionary)\n",
        "5. Tuple\n",
        "\n",
        "In python, all variables are objects of a class, by implication, the data types listed above are classes built into python.\n",
        "\n",
        "Explanation of classes\n",
        "\n",
        "A class is the definition or description of a dataset and how it should be manipulated."
      ],
      "metadata": {
        "id": "dsyVlCqHcKKG"
      }
    },
    {
      "cell_type": "code",
      "source": [
        "#Use the dir function to check the attributes and functions of an object\n",
        "dir(a)"
      ],
      "metadata": {
        "id": "aU_enodsjoNh"
      },
      "execution_count": null,
      "outputs": []
    },
    {
      "cell_type": "markdown",
      "source": [
        "Numbers, Strings, List\n",
        "\n",
        "Numbers are natural numbers."
      ],
      "metadata": {
        "id": "BTGDllwokLW3"
      }
    },
    {
      "cell_type": "code",
      "source": [
        "width = 50\n",
        "\n",
        "height = 25\n",
        "\n",
        "length = 40\n",
        "\n",
        "volume = width*height*length\n",
        "\n",
        "sum = width + height+length\n",
        "\n",
        "diff = width+height-length\n",
        "\n",
        "div = volume/diff\n",
        "\n",
        "mod = sum%3\n",
        "\n",
        "print(' Width : %d \\n Height: %d \\n Length: %d \\n Volume : %d \\n Sum : %d \\n \\\n",
        "Difference : %d \\n Division : %d \\n Modolus : %d'\n",
        "%(width,height,length,volume,sum,diff,div,mod))"
      ],
      "metadata": {
        "colab": {
          "base_uri": "https://localhost:8080/"
        },
        "id": "-mbikUgOlAR3",
        "outputId": "f454d0e3-d7d9-4be0-d3de-2a662508281b"
      },
      "execution_count": null,
      "outputs": [
        {
          "output_type": "stream",
          "name": "stdout",
          "text": [
            " Width : 50 \n",
            " Height: 25 \n",
            " Length: 40 \n",
            " Volume : 50000 \n",
            " Sum : 115 \n",
            " Difference : 35 \n",
            " Division : 1428 \n",
            " Modolus : 1\n"
          ]
        }
      ]
    },
    {
      "cell_type": "markdown",
      "source": [
        "**Strings**\n",
        "\n",
        "Besides numbers, Python can also manipulate strings, which can be expressed in several ways.\n",
        "\n",
        "They can be enclosed in single quotes ('...') or double quotes (\"...\") with the same result 2. \\ can be used to escape quotes:"
      ],
      "metadata": {
        "id": "9Be63xYLoW2Z"
      }
    },
    {
      "cell_type": "code",
      "source": [
        "name = 'Daniel'\n",
        "\n",
        "#'my father's mother'\n",
        "\n",
        "institution = \"Obafemi Awolowo University\"\n",
        "\n",
        "#when string literals span multiple lines\n",
        "address  = '''      No 9,\n",
        "        Transvalstrasse,\n",
        "         Wedding Berlin'''\n",
        "\n",
        "# escaping quote\n",
        "comment = 'It\\'s a good day to learn python'\n",
        "\n",
        "\n",
        "print(name,\"\\n\",address,\"\\n\",institution,\"\\n\", comment)"
      ],
      "metadata": {
        "colab": {
          "base_uri": "https://localhost:8080/"
        },
        "id": "COTZeQftoSve",
        "outputId": "15b2ba7c-a53b-4b95-9550-d4023bba79e5"
      },
      "execution_count": null,
      "outputs": [
        {
          "output_type": "stream",
          "name": "stdout",
          "text": [
            "Daniel \n",
            "       No 9,\n",
            "        Transvalstrasse,\n",
            "         Wedding Berlin \n",
            " Obafemi Awolowo University \n",
            " It's a good day to learn python\n"
          ]
        }
      ]
    },
    {
      "cell_type": "code",
      "source": [
        "#Strings can be concatenated (glued together) with the + operator, and repeated with *:\n",
        "\n",
        "operated_string = 3 * 'un' + 'ium'\n",
        "\n",
        "txt = \"coverage\"\n",
        "\n",
        "# only works for string literal\n",
        "\n",
        "text = ('Put several strings within parentheses '\n",
        " 'to have them joined together.')\n",
        "\n",
        "print(text)"
      ],
      "metadata": {
        "colab": {
          "base_uri": "https://localhost:8080/"
        },
        "id": "GzpEkC7RCUZG",
        "outputId": "e0edb98c-7ee6-4bee-fcac-a469f5d76afe"
      },
      "execution_count": null,
      "outputs": [
        {
          "output_type": "stream",
          "name": "stdout",
          "text": [
            "Put several strings within parentheses to have them joined together.\n"
          ]
        }
      ]
    },
    {
      "cell_type": "code",
      "source": [
        "txt1 = \"jumbo\"\n",
        "\n",
        "txt2 = \"alan\"\n",
        "\n",
        "(\"jumbo\" \"alna\")\n",
        "\n",
        "txt1+txt2\n",
        "\n",
        "txt3 = \"welcome to basic python programming class\""
      ],
      "metadata": {
        "id": "o3m7mNLj1rso"
      },
      "execution_count": null,
      "outputs": []
    },
    {
      "cell_type": "code",
      "source": [
        "# String indexing\n",
        "# We treat string as list of character\n",
        "\n",
        "print(txt3[0])\n",
        "\n",
        "print(txt3[-1])\n",
        "\n",
        "print(txt3[0:7])\n",
        "\n",
        "print(txt3[2:-3])"
      ],
      "metadata": {
        "colab": {
          "base_uri": "https://localhost:8080/"
        },
        "id": "lD805cv7DcZL",
        "outputId": "644255f2-449b-4862-c9c3-6943362c8517"
      },
      "execution_count": null,
      "outputs": [
        {
          "output_type": "stream",
          "name": "stdout",
          "text": [
            "w\n",
            "s\n",
            "welcome\n",
            "lcome to basic python programming cl\n"
          ]
        }
      ]
    },
    {
      "cell_type": "markdown",
      "source": [
        "**String Methods**\n",
        "\n",
        "capitalize()\n",
        "\n",
        "casefold()\n",
        "\n",
        "endswith(suffix[, start[, end]])\n",
        "\n",
        "find(sub[, start[, end]])\n",
        "\n",
        "format(*args, **kwargs)\n",
        "\n",
        "isalnum()\n",
        "\n",
        "str.isupper()\n",
        "\n",
        "https://docs.python.org/3/library/stdtypes.html#string-methods"
      ],
      "metadata": {
        "id": "KDipALv3ED-q"
      }
    },
    {
      "cell_type": "code",
      "source": [
        "print(\"ADEAGBO\".isupper())\n",
        "\n",
        "#print(txt.endswith(\"po\"))\n",
        "\n",
        "print(\"1 + 2 is {}\".format(1+2))\n",
        "\n",
        "a = \"poi\"\n",
        "\n",
        "print(a.upper())"
      ],
      "metadata": {
        "colab": {
          "base_uri": "https://localhost:8080/"
        },
        "id": "XD8Q9uRyC4mE",
        "outputId": "9f04d2ba-551b-4dec-d991-3b198bdcb565"
      },
      "execution_count": null,
      "outputs": [
        {
          "output_type": "stream",
          "name": "stdout",
          "text": [
            "True\n",
            "1 + 2 is 3\n",
            "POI\n"
          ]
        }
      ]
    },
    {
      "cell_type": "code",
      "source": [
        "tokens = txt3.split(\" \")\n",
        "\n",
        "txt3_upper = txt3.upper()\n",
        "\n",
        "print(tokens)\n",
        "\n",
        "print(txt3_upper)"
      ],
      "metadata": {
        "colab": {
          "base_uri": "https://localhost:8080/"
        },
        "id": "wE9M7icO3rpC",
        "outputId": "ab1b1136-d752-4246-af80-c3f20a49dc7a"
      },
      "execution_count": null,
      "outputs": [
        {
          "output_type": "stream",
          "name": "stdout",
          "text": [
            "['welcome', 'to', 'basic', 'python', 'programming', 'class']\n",
            "WELCOME TO BASIC PYTHON PROGRAMMING CLASS\n"
          ]
        }
      ]
    },
    {
      "cell_type": "markdown",
      "source": [
        "**Lists**\n",
        "\n",
        "Python knows a number of compound data types, used to group together other values. The most versatile is the list, which can be written as a list of comma-separated values (items) between square brackets. Lists might contain items of different types, but usually the items all have the same type."
      ],
      "metadata": {
        "id": "J2DsppGfFaID"
      }
    },
    {
      "cell_type": "code",
      "source": [
        "cities = [\"Berlin\",\"Ife\", \"Lagos\", \"Abuja\",\"Windhoek\"]\n",
        "\n",
        "print(cities)\n",
        "\n",
        "print(cities[0] )\n",
        "\n",
        "print(cities[-1])\n",
        "\n",
        "print(cities[-3:] )\n",
        "\n",
        "#Lists also support operations like concatenation:\n",
        "\n",
        "cities = cities + [\"Potsdam\",\"Ibadan\"]\n",
        "\n",
        "#Unlike strings, which are immutable, lists are a mutable type, i.e. it is possible to change their content:\n",
        "\n",
        "cities[3] = \"Osogbo\"\n",
        "\n",
        "print(cities)\n",
        "\n"
      ],
      "metadata": {
        "colab": {
          "base_uri": "https://localhost:8080/"
        },
        "id": "-LxBj8-uFXOC",
        "outputId": "3525f106-e085-491e-bae2-0e51670fe914"
      },
      "execution_count": null,
      "outputs": [
        {
          "output_type": "stream",
          "name": "stdout",
          "text": [
            "['Berlin', 'Ife', 'Lagos', 'Abuja', 'Windhoek']\n",
            "Berlin\n",
            "Windhoek\n",
            "['Lagos', 'Abuja', 'Windhoek']\n",
            "['Berlin', 'Ife', 'Lagos', 'Osogbo', 'Windhoek', 'Potsdam', 'Ibadan']\n"
          ]
        }
      ]
    },
    {
      "cell_type": "code",
      "source": [
        "cities = [\"Berlin\",\"Ife\", \"Lagos\", \"Abuja\",\"Windhoek\"]\n",
        "print(len(cities))\n",
        "print(cities[-len(cities):])"
      ],
      "metadata": {
        "colab": {
          "base_uri": "https://localhost:8080/"
        },
        "id": "7_6zawNA5fNx",
        "outputId": "9354a1c7-98a1-482e-8d48-d9d5be961089"
      },
      "execution_count": null,
      "outputs": [
        {
          "output_type": "stream",
          "name": "stdout",
          "text": [
            "5\n",
            "['Berlin', 'Ife', 'Lagos', 'Abuja', 'Windhoek']\n"
          ]
        }
      ]
    },
    {
      "cell_type": "code",
      "source": [
        "# add more a city to the cities\n",
        "\n",
        "cities.append(\"Kano\")\n",
        "\n",
        "cities"
      ],
      "metadata": {
        "colab": {
          "base_uri": "https://localhost:8080/"
        },
        "id": "jtvoN18wG67U",
        "outputId": "ba56202a-55f5-4488-baa6-2cd9344787c8"
      },
      "execution_count": null,
      "outputs": [
        {
          "output_type": "execute_result",
          "data": {
            "text/plain": [
              "['Berlin', 'Ife', 'Lagos', 'Abuja', 'Windhoek', 'Kano']"
            ]
          },
          "metadata": {},
          "execution_count": 15
        }
      ]
    },
    {
      "cell_type": "code",
      "source": [
        "# number of items in the list\n",
        "\n",
        "len(cities)"
      ],
      "metadata": {
        "colab": {
          "base_uri": "https://localhost:8080/"
        },
        "id": "RX8Cw7sEHNX9",
        "outputId": "f0a0394f-413c-4dae-8477-e7574c458813"
      },
      "execution_count": null,
      "outputs": [
        {
          "output_type": "execute_result",
          "data": {
            "text/plain": [
              "8"
            ]
          },
          "metadata": {},
          "execution_count": 37
        }
      ]
    },
    {
      "cell_type": "code",
      "source": [
        "#String and list\n",
        "\n",
        "text = \"we are learning python\"\n",
        "\n",
        "words = text.split(\" \")\n",
        "\n",
        "print(words)\n"
      ],
      "metadata": {
        "colab": {
          "base_uri": "https://localhost:8080/"
        },
        "id": "4-jS9512HbAp",
        "outputId": "72a4c4c2-4109-4abe-efec-d457261d39ce"
      },
      "execution_count": null,
      "outputs": [
        {
          "output_type": "stream",
          "name": "stdout",
          "text": [
            "['we', 'are', 'learning', 'python']\n"
          ]
        }
      ]
    },
    {
      "cell_type": "markdown",
      "source": [
        "**Control Flow Tools**\n",
        "\n",
        "Python uses the usual flow control statements known from other languages, with some twists.\n",
        "\n",
        "**If Statements**\n",
        "\n",
        "There can be zero or more elif parts, and the else part is optional. The keyword ‘elif’ is short for ‘else if’, and is useful to avoid excessive indentation."
      ],
      "metadata": {
        "id": "mbYIJIP8IJol"
      }
    },
    {
      "cell_type": "code",
      "source": [
        "x = int(input(\"Please enter an integer: \"))\n",
        "\n",
        "if x < 0:\n",
        "  x = 0\n",
        "  print('Negative changed to zero')\n",
        "elif x == 0:\n",
        "  print('Zero')\n",
        "elif x == 1:\n",
        "  print('Single')\n",
        "else:\n",
        "  print(\"More\")\n"
      ],
      "metadata": {
        "colab": {
          "base_uri": "https://localhost:8080/"
        },
        "id": "9RH2HcXfIjmg",
        "outputId": "c39ea732-19f2-4019-c3a0-bb5a368bb1fe"
      },
      "execution_count": null,
      "outputs": [
        {
          "output_type": "stream",
          "name": "stdout",
          "text": [
            "Please enter an integer: 09\n",
            "More\n"
          ]
        }
      ]
    },
    {
      "cell_type": "markdown",
      "source": [
        "**for Statements**\n",
        "\n",
        "For iteration or loop\n",
        "\n"
      ],
      "metadata": {
        "id": "B3upMj2FJgmO"
      }
    },
    {
      "cell_type": "code",
      "source": [
        "for city in cities:\n",
        "  print(city)"
      ],
      "metadata": {
        "colab": {
          "base_uri": "https://localhost:8080/"
        },
        "id": "wu_F0Ne9Jv6n",
        "outputId": "105f0729-4213-45ce-cb84-adf058688d25"
      },
      "execution_count": null,
      "outputs": [
        {
          "output_type": "stream",
          "name": "stdout",
          "text": [
            "Berlin\n",
            "Ife\n",
            "Lagos\n",
            "Osogbo\n",
            "Windhoek\n",
            "Potsdam\n",
            "Ibadan\n",
            "Kano\n"
          ]
        }
      ]
    },
    {
      "cell_type": "markdown",
      "source": [
        "Code that modifies a collection while iterating over that same collection can be tricky to get right. Instead, it is usually more straight-forward to loop over a copy of the collection or to create a new collection.\n",
        "\n",
        " Strategy:  Iterate over a copy\n",
        "for user, status in users.copy().items():\n",
        "    if status == 'inactive':\n",
        "        del users[user]"
      ],
      "metadata": {
        "id": "C1qi_dtfKDjv"
      }
    },
    {
      "cell_type": "code",
      "source": [
        "users = {'Hans': 'active', 'Éléonore': 'inactive', '景太郎': 'active'}\n",
        "\n",
        "for user, status in users.copy().items():\n",
        "  if status == 'inactive':\n",
        "    del users[user]\n",
        "\n",
        "print(users)"
      ],
      "metadata": {
        "colab": {
          "base_uri": "https://localhost:8080/"
        },
        "id": "sJsvNeDqKMlj",
        "outputId": "29fba65e-2cc6-4a44-8e28-6d6cf9d3642a"
      },
      "execution_count": null,
      "outputs": [
        {
          "output_type": "stream",
          "name": "stdout",
          "text": [
            "{'Hans': 'active', '景太郎': 'active'}\n"
          ]
        }
      ]
    },
    {
      "cell_type": "code",
      "source": [
        "# the range function - to iterate over a sequence of numbers\n",
        "\n",
        "for i in range(5):\n",
        "  print(i)"
      ],
      "metadata": {
        "id": "XyO6kSNrKzKp",
        "colab": {
          "base_uri": "https://localhost:8080/"
        },
        "outputId": "f15aaec6-841c-4402-b843-5993ee14989f"
      },
      "execution_count": null,
      "outputs": [
        {
          "output_type": "stream",
          "name": "stdout",
          "text": [
            "0\n",
            "1\n",
            "2\n",
            "3\n",
            "4\n"
          ]
        }
      ]
    },
    {
      "cell_type": "markdown",
      "source": [
        "**Defining functions**\n",
        "\n",
        "The keyword def introduces a function definition. It must be followed by the function name and the parenthesized list of formal parameters. The statements that form the body of the function start at the next line, and must be indented."
      ],
      "metadata": {
        "id": "PS9E366OL6fI"
      }
    },
    {
      "cell_type": "code",
      "source": [
        "def tokenize(sentence):\n",
        "  return sentence.split(\" \")\n",
        "\n",
        "\n",
        "tokenize(\"Hello everybody , hope you are feeling fine\")"
      ],
      "metadata": {
        "colab": {
          "base_uri": "https://localhost:8080/"
        },
        "id": "OghnZF2PLUjE",
        "outputId": "82172c8d-ccd1-409d-8ef4-4ce1494d9c82"
      },
      "execution_count": null,
      "outputs": [
        {
          "output_type": "execute_result",
          "data": {
            "text/plain": [
              "['Hello', 'everybody', ',', 'hope', 'you', 'are', 'feeling', 'fine']"
            ]
          },
          "metadata": {},
          "execution_count": 44
        }
      ]
    },
    {
      "cell_type": "code",
      "source": [
        "#default arguments\n",
        "\n",
        "def tokenize(sentence= \"a simple sentence\"):\n",
        "  return sentence.split(\" \")\n"
      ],
      "metadata": {
        "id": "lkwWakE4Mobb"
      },
      "execution_count": null,
      "outputs": []
    },
    {
      "cell_type": "markdown",
      "source": [
        "**Data Structure**\n",
        "\n",
        "More on Lists\n",
        "\n",
        "list.append(x)\n",
        "\n",
        "list.extend(iterable)\n",
        "\n",
        "list.extend(iterable)\n",
        "\n",
        "list.remove(x)\n",
        "\n",
        "list.clear()\n",
        "\n",
        "sorted(list)\n",
        "\n",
        "list.copy()"
      ],
      "metadata": {
        "id": "tuO-_wSOQ8MP"
      }
    },
    {
      "cell_type": "code",
      "source": [
        "names = [\"victor\",\"tobi\"]"
      ],
      "metadata": {
        "id": "SuDUl9k6B8UP"
      },
      "execution_count": null,
      "outputs": []
    },
    {
      "cell_type": "markdown",
      "source": [
        "**Task**\n",
        "\n",
        "create a list of name - victor Shola Tobi Seun\n",
        "\n",
        "create a list of the age of the names\n",
        "\n",
        "Create a list from a sentence\n",
        "\n",
        "append a word to the list\n",
        "\n",
        "extend the words by a list of words from another sentence\n",
        "\n",
        "remove two words\n",
        "\n",
        "finally, sort the list"
      ],
      "metadata": {
        "id": "Ibt9_QuP_nT7"
      }
    },
    {
      "cell_type": "code",
      "source": [
        "#List Comprehensions\n",
        "#List comprehensions provide a concise way to create lists.\n",
        "\n",
        "squares1 = []\n",
        "\n",
        "for x in range(10):\n",
        "  squares1.append(x**2)\n",
        "\n",
        "squares2 = [x**2 for x in range(10)]"
      ],
      "metadata": {
        "id": "RMl4UMC-Rwfv"
      },
      "execution_count": null,
      "outputs": []
    },
    {
      "cell_type": "markdown",
      "source": [
        "create four integer variable\n",
        "\n",
        "multiply the first two and store it in mull1\n",
        "\n",
        "add the last two variables and store it in sum\n",
        "\n",
        "divide mull1 by sum and store the value in div\n",
        "\n"
      ],
      "metadata": {
        "id": "dpubRw51KyTa"
      }
    },
    {
      "cell_type": "markdown",
      "source": [
        "**Tuples and Sequences**\n",
        "\n",
        "We saw that lists and strings have many common properties, such as indexing and slicing operations. They are two examples of sequence data types (see Sequence Types — list, tuple, range). Since Python is an evolving language, other sequence data types may be added. There is also another standard sequence data type: the tuple.\n",
        "\n",
        "A tuple consists of a number of values separated by commas, for instance:\n",
        "\n"
      ],
      "metadata": {
        "id": "Af6N5flKTJeY"
      }
    },
    {
      "cell_type": "code",
      "source": [
        "t = 12345, 54321, 'hello!'\n",
        "\n",
        "print(t[0])\n",
        "\n",
        "# Tuples may be nested:\n",
        "\n",
        "u = t, (1, 2, 3, 4, 5)\n",
        "\n",
        "print(u)\n",
        "\n",
        "# Tuples are immutable:"
      ],
      "metadata": {
        "colab": {
          "base_uri": "https://localhost:8080/"
        },
        "id": "egUNZ4NhTVUO",
        "outputId": "ca2f3a26-1433-42db-d5f9-2ed326316639"
      },
      "execution_count": null,
      "outputs": [
        {
          "output_type": "stream",
          "name": "stdout",
          "text": [
            "12345\n",
            "((12345, 54321, 'hello!'), (1, 2, 3, 4, 5))\n"
          ]
        }
      ]
    },
    {
      "cell_type": "markdown",
      "source": [
        "Though tuples may seem similar to lists, they are often used in different situations and for different purposes. Tuples are immutable, and usually contain a heterogeneous sequence of elements that are accessed via unpacking (see later in this section) or indexing (or even by attribute in the case of namedtuples). Lists are mutable, and their elements are usually homogeneous and are accessed by iterating over the list.\n",
        "\n"
      ],
      "metadata": {
        "id": "ayEGwQ80T7k1"
      }
    },
    {
      "cell_type": "code",
      "source": [
        "#empty tuple\n",
        "\n",
        "empty = ()\n",
        "\n",
        "singleton = 'hello',    # <-- note trailing comma\n",
        "\n",
        "t = 12345, 54321, 'hello!' # tuple packing\n",
        "\n",
        "x, y, z = t # tuple unpacking"
      ],
      "metadata": {
        "id": "_U5UntuuUFHC"
      },
      "execution_count": null,
      "outputs": []
    },
    {
      "cell_type": "markdown",
      "source": [
        "**Sets**\n",
        "\n",
        "A set is an unordered collection with no duplicate elements. Basic uses include membership testing and eliminating duplicate entries. Set objects also support mathematical operations like union, intersection, difference, and symmetric difference.\n",
        "\n",
        "Curly braces or the set() function can be used to create sets. Note: to create an empty set you have to use set(), not {}; the latter creates an empty dictionary."
      ],
      "metadata": {
        "id": "nVkITG65Uapy"
      }
    },
    {
      "cell_type": "code",
      "source": [
        "basket = {'apple', 'orange', 'apple', 'pear', 'orange', 'banana'}\n",
        "\n",
        "print(basket)\n",
        "\n"
      ],
      "metadata": {
        "id": "rrnA8kT6Un3J"
      },
      "execution_count": null,
      "outputs": []
    },
    {
      "cell_type": "code",
      "source": [
        "'orange' in basket"
      ],
      "metadata": {
        "id": "3QkfBygzU_Gz"
      },
      "execution_count": null,
      "outputs": []
    },
    {
      "cell_type": "code",
      "source": [
        "a = set('abracadabra')\n",
        "\n",
        "b = set('alacazam')"
      ],
      "metadata": {
        "id": "VNhTLP3nVH5i"
      },
      "execution_count": null,
      "outputs": []
    },
    {
      "cell_type": "code",
      "source": [
        "a - b  #letters in a but not in b"
      ],
      "metadata": {
        "id": "cP7hy8d7VNZg"
      },
      "execution_count": null,
      "outputs": []
    },
    {
      "cell_type": "code",
      "source": [
        "a | b #letters in a or b or both"
      ],
      "metadata": {
        "id": "W9rh3jdTVOMI"
      },
      "execution_count": null,
      "outputs": []
    },
    {
      "cell_type": "code",
      "source": [
        "a & b  #letters in both a and b"
      ],
      "metadata": {
        "id": "uaOr3FEyVRmv"
      },
      "execution_count": null,
      "outputs": []
    },
    {
      "cell_type": "code",
      "source": [
        "a & b  #letters in a or b but not both"
      ],
      "metadata": {
        "id": "CQJOnJZoVXIZ"
      },
      "execution_count": null,
      "outputs": []
    },
    {
      "cell_type": "markdown",
      "source": [
        "**Dictionaries**\n",
        "\n",
        "Dictionaries are sometimes found in other languages as “associative memories” or “associative arrays”. Unlike sequences, which are indexed by a range of numbers, dictionaries are indexed by keys, which can be any immutable type; strings and numbers can always be keys.\n",
        "\n",
        "It is best to think of a dictionary as a set of key: value pairs, with the requirement that the keys are unique (within one dictionary). A pair of braces creates an empty dictionary: {}. Placing a comma-separated list of key:value pairs within the braces adds initial key:value pairs to the dictionary; this is also the way dictionaries are written on output."
      ],
      "metadata": {
        "id": "4-ZqWARUVqNZ"
      }
    },
    {
      "cell_type": "code",
      "source": [
        "tel = {'jack': 4098, 'sape': 4139}\n",
        "\n",
        "tel['guido'] = 4127\n",
        "\n",
        "tel"
      ],
      "metadata": {
        "id": "WMyqsiwZWk-Y"
      },
      "execution_count": null,
      "outputs": []
    },
    {
      "cell_type": "code",
      "source": [
        "dict([('sape', 4139), ('guido', 4127), ('jack', 4098)])"
      ],
      "metadata": {
        "id": "40poIO3EWqMZ"
      },
      "execution_count": null,
      "outputs": []
    },
    {
      "cell_type": "code",
      "source": [
        "knights = {'gallahad': 'the pure', 'robin': 'the brave'}\n",
        "\n",
        "for k, v in knights.items():\n",
        "  print(k, v)"
      ],
      "metadata": {
        "colab": {
          "base_uri": "https://localhost:8080/"
        },
        "id": "PmBsvDp-W0Bw",
        "outputId": "ba090b21-8490-4f09-c3cf-f09c4d54559e"
      },
      "execution_count": null,
      "outputs": [
        {
          "output_type": "stream",
          "name": "stdout",
          "text": [
            "gallahad the pure\n",
            "robin the brave\n"
          ]
        }
      ]
    },
    {
      "cell_type": "markdown",
      "source": [
        "When looping through a sequence, the position index and corresponding value can be retrieved at the same time using the enumerate() function."
      ],
      "metadata": {
        "id": "sezLGrxhXEL8"
      }
    },
    {
      "cell_type": "code",
      "source": [
        "for i, v in enumerate(['tic', 'tac', 'toe']):\n",
        "  print(i, v)"
      ],
      "metadata": {
        "id": "rEiGXpdnXE-m"
      },
      "execution_count": null,
      "outputs": []
    },
    {
      "cell_type": "code",
      "source": [
        "#To loop over two or more sequences at the same time, the entries can be paired with the zip() function.\n",
        "questions = ['name', 'quest', 'favorite color']\n",
        "answers = ['lancelot', 'the holy grail', 'blue']\n",
        "\n",
        "for q, a in zip(questions, answers):\n",
        "  print('What is your {0}?  It is {1}.'.format(q, a))"
      ],
      "metadata": {
        "id": "FnxYtLK_XONl"
      },
      "execution_count": null,
      "outputs": []
    },
    {
      "cell_type": "markdown",
      "source": [
        "**Modules**\n",
        "\n",
        "A module can contain executable statements as well as function definitions. These statements are intended to initialize the module. They are executed only the first time the module name is encountered in an import statement.\n",
        "\n",
        "Modules can import other modules. It is customary but not required to place all import statements at the beginning of a module (or script, for that matter). The imported module names, if placed at the top level of a module (outside any functions or classes), are added to the module’s global namespace.\n",
        "\n",
        "There is a variant of the import statement that imports names from a module directly into the importing module’s namespace."
      ],
      "metadata": {
        "id": "jMsvhfccXquv"
      }
    },
    {
      "cell_type": "code",
      "source": [
        "import sys\n",
        "\n",
        "from sys import *\n",
        "\n",
        "from sys import path\n",
        "\n",
        "from sys import breakpointhook as bph\n",
        "\n",
        "\n",
        "dir(sys)\n",
        "\n",
        "# bph"
      ],
      "metadata": {
        "colab": {
          "base_uri": "https://localhost:8080/"
        },
        "id": "JnuVi5NOYZQ-",
        "outputId": "cc8ac6d7-47d1-4743-edbc-a56f498a9d22"
      },
      "execution_count": 1,
      "outputs": [
        {
          "output_type": "execute_result",
          "data": {
            "text/plain": [
              "['__breakpointhook__',\n",
              " '__displayhook__',\n",
              " '__doc__',\n",
              " '__excepthook__',\n",
              " '__interactivehook__',\n",
              " '__loader__',\n",
              " '__name__',\n",
              " '__package__',\n",
              " '__spec__',\n",
              " '__stderr__',\n",
              " '__stdin__',\n",
              " '__stdout__',\n",
              " '__unraisablehook__',\n",
              " '_base_executable',\n",
              " '_clear_type_cache',\n",
              " '_current_exceptions',\n",
              " '_current_frames',\n",
              " '_deactivate_opcache',\n",
              " '_debugmallocstats',\n",
              " '_framework',\n",
              " '_getframe',\n",
              " '_git',\n",
              " '_home',\n",
              " '_xoptions',\n",
              " 'abiflags',\n",
              " 'addaudithook',\n",
              " 'api_version',\n",
              " 'argv',\n",
              " 'audit',\n",
              " 'base_exec_prefix',\n",
              " 'base_prefix',\n",
              " 'breakpointhook',\n",
              " 'builtin_module_names',\n",
              " 'byteorder',\n",
              " 'call_tracing',\n",
              " 'copyright',\n",
              " 'displayhook',\n",
              " 'dont_write_bytecode',\n",
              " 'exc_info',\n",
              " 'excepthook',\n",
              " 'exec_prefix',\n",
              " 'executable',\n",
              " 'exit',\n",
              " 'flags',\n",
              " 'float_info',\n",
              " 'float_repr_style',\n",
              " 'get_asyncgen_hooks',\n",
              " 'get_coroutine_origin_tracking_depth',\n",
              " 'get_int_max_str_digits',\n",
              " 'getallocatedblocks',\n",
              " 'getdefaultencoding',\n",
              " 'getdlopenflags',\n",
              " 'getfilesystemencodeerrors',\n",
              " 'getfilesystemencoding',\n",
              " 'getprofile',\n",
              " 'getrecursionlimit',\n",
              " 'getrefcount',\n",
              " 'getsizeof',\n",
              " 'getswitchinterval',\n",
              " 'gettrace',\n",
              " 'hash_info',\n",
              " 'hexversion',\n",
              " 'implementation',\n",
              " 'int_info',\n",
              " 'intern',\n",
              " 'is_finalizing',\n",
              " 'maxsize',\n",
              " 'maxunicode',\n",
              " 'meta_path',\n",
              " 'modules',\n",
              " 'orig_argv',\n",
              " 'path',\n",
              " 'path_hooks',\n",
              " 'path_importer_cache',\n",
              " 'platform',\n",
              " 'platlibdir',\n",
              " 'prefix',\n",
              " 'ps1',\n",
              " 'ps2',\n",
              " 'ps3',\n",
              " 'pycache_prefix',\n",
              " 'set_asyncgen_hooks',\n",
              " 'set_coroutine_origin_tracking_depth',\n",
              " 'set_int_max_str_digits',\n",
              " 'setdlopenflags',\n",
              " 'setprofile',\n",
              " 'setrecursionlimit',\n",
              " 'setswitchinterval',\n",
              " 'settrace',\n",
              " 'stderr',\n",
              " 'stdin',\n",
              " 'stdlib_module_names',\n",
              " 'stdout',\n",
              " 'thread_info',\n",
              " 'unraisablehook',\n",
              " 'version',\n",
              " 'version_info',\n",
              " 'warnoptions']"
            ]
          },
          "metadata": {},
          "execution_count": 1
        }
      ]
    },
    {
      "cell_type": "markdown",
      "source": [
        "**Packages**\n",
        "\n",
        "Packages are a way of structuring Python’s module namespace by using “dotted module names”. For example, the module name A.B designates a submodule named B in a package named A.\n",
        "\n",
        "Note that when using from package import item, the item can be either a submodule (or subpackage) of the package, or some other name defined in the package, like a function, class or variable. The import statement first tests whether the item is defined in the package; if not, it assumes it is a module and attempts to load it. If it fails to find it, an ImportError exception is raised.\n",
        "\n",
        "Contrarily, when using syntax like import item.subitem.subsubitem, each item except for the last must be a package; the last item can be a module or a package but can’t be a class or function or variable defined in the previous item."
      ],
      "metadata": {
        "id": "8WYpF9Y_ZRjU"
      }
    },
    {
      "cell_type": "markdown",
      "source": [
        "References\n",
        "\n",
        "https://www.edx.org/learn/computer-programming#:~:text=Computer%20programming%20is%20the%20process,task%20or%20solve%20a%20problem."
      ],
      "metadata": {
        "id": "ScZMJ3FKYK9J"
      }
    }
  ]
}